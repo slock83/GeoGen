from cassandra.cluster import Cluster
from sets import Set
import time
import random
from random import randrange
from datetime import timedelta



def initMinMax ():
    query = "SELECT * FROM test_geogen"
    rows = session.execute(query)
    minLat = rows[0].latitude
    maxLat = rows[0].latitude
    minLong = rows[0].longitude
    maxLong = rows[0].longitude
    minTime = rows[0].time_sent
    maxTime = rows[0].time_sent
    for row in rows:
        minLat = min(minLat, row.latitude)
        maxLat = max(maxLat, row.latitude)
        minLong = min(minLong, row.longitude)
        maxLong = max(maxLong, row.longitude)
        minTime = min(minTime, row.time_sent)
        maxTime = max(maxTime, row.time_sent)
    return (minLat,maxLat,minLong,maxLong,minTime,maxTime)

def random_date(start, end):
    delta = end - start
    int_delta = (delta.days * 24 * 60 * 60) + delta.seconds
    random_second = randrange(int_delta)
    return start + timedelta(seconds=random_second)

def genCoordAndTime (minMax):
    lat1 = random.uniform(minMax[0], minMax[1])
    long1 = random.uniform(minMax[2], minMax[3])
    lat2 = random.uniform(minMax[0], minMax[1]) 
    long2 = random.uniform(minMax[2], minMax[3])
    time1 = random_date(minMax[4],minMax[5])
    time2 = random_date(minMax[4],minMax[5])
    return (max(lat1,lat2),min(lat1,lat2),max(long1,long2),min(long1,long2),max(time1,time2),min(time1,time2))
    

def query(numberOfQueries, minMax):
    start_time = time.time()
    print 'Number of queries', numberOfQueries
    # build a list of futures
    futures = []
    query = "SELECT * FROM test_geogen WHERE radius = 10 and latitude < %s and latitude > %s and longitude < %s and longitude > %s and token(time_sent) < token(%s) and token(time_sent) > token(%s) ALLOW FILTERING"
    for i in range(0,numberOfQueries):
        params = genCoordAndTime (minMax)
        futures.append(session.execute_async(query, params))

    # wait for them to complete and use the results
    for future in futures:
        phone = Set()
        rows = future.result()
        for row in rows:
            phone.add(row.msisdn)
    interval = time.time() - start_time
    print 'Total time in seconds:', interval
        
    
    
def queryNTimes(n, pas, minMax):
    for i in range(0,n):
        query(i*pas, minMax)
        time.sleep(0.1)


cluster = Cluster()
session = cluster.connect('test_geogen_ks')

minMax = initMinMax()

queryNTimes(20, 100, minMax)
